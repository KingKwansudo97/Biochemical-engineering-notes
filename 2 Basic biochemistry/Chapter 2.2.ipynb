{
 "cells": [
  {
   "cell_type": "markdown",
   "metadata": {},
   "source": [
    "# The Python toolbox\n",
    "\n",
    "This module requires you to be familiar with the Python environment in order to solve biochemical engineering problems.\n",
    "The tools needed to succesfully complete this module include: plotting, solving matrices, working with functions, and integrating functions in the Python environment. These tools will be used beyond CBI310 in your second semester and in your final year. Basic coding principles such as defining variables, writing for/while loops, and writing out mathematical formulas, are assumed to be knowledge aquired in MPR210. This tutorial aims to give you a short overview of the coding skills required throughout this module and gives you the opportunity to revise previously aqcuired coding knowledge."
   ]
  },
  {
   "cell_type": "markdown",
   "metadata": {},
   "source": [
    "### 1. Fundamentals\n",
    "When a problem statement is given, the first thing you should do is to translate words to mathematics. This is achieved through the definition of parameters, variables, and functions. The following example is supposed to remind you of the correct syntax to use when defining a function.\n",
    "\n",
    "Example:\n",
    "What is the volume of a sphere?\n",
    "- We know that the volume of a sphere is calculated by using: $V = 4/3*\\pi*r^{3}$"
   ]
  },
  {
   "cell_type": "code",
   "execution_count": 29,
   "metadata": {},
   "outputs": [],
   "source": [
    "import numpy as np #We need this library to use the functions in Python\n",
    "\n",
    "def Volume_of_sphere (r):\n",
    "    V = 4/3*np.pi*r**3\n",
    "    return V"
   ]
  },
  {
   "cell_type": "markdown",
   "metadata": {},
   "source": [
    "We can now use this function to calculate the volume of a sphere with any radius. Eg. r = 2, r = 4, and r = 10."
   ]
  },
  {
   "cell_type": "code",
   "execution_count": 30,
   "metadata": {},
   "outputs": [
    {
     "data": {
      "text/plain": [
       "(33.510321638291124, 268.082573106329, 4188.790204786391)"
      ]
     },
     "execution_count": 30,
     "metadata": {},
     "output_type": "execute_result"
    }
   ],
   "source": [
    "Volume_of_sphere(2), Volume_of_sphere(4), Volume_of_sphere(10)"
   ]
  },
  {
   "cell_type": "markdown",
   "metadata": {},
   "source": [
    "Rewriting this is inefficient coding. To make the code more efficient, we can use a for loop. This is illustrated below:"
   ]
  },
  {
   "cell_type": "code",
   "execution_count": 31,
   "metadata": {},
   "outputs": [
    {
     "name": "stdout",
     "output_type": "stream",
     "text": [
      "33.510321638291124\n",
      "268.082573106329\n",
      "4188.790204786391\n"
     ]
    }
   ],
   "source": [
    "for i in [2,4,10]:\n",
    "    print(Volume_of_sphere(i))"
   ]
  },
  {
   "cell_type": "markdown",
   "metadata": {},
   "source": [
    "Let's say we wanted to know the volume of spheres with radii from 1 to 10 with increments of 1. We can set up a list of these values in various ways. Below different methods are illustrated:"
   ]
  },
  {
   "cell_type": "code",
   "execution_count": 32,
   "metadata": {},
   "outputs": [
    {
     "data": {
      "text/plain": [
       "(array([ 1,  2,  3,  4,  5,  6,  7,  8,  9, 10]),\n",
       " [1, 2, 3, 4, 5, 6, 7, 8, 9, 10],\n",
       " array([ 1.,  2.,  3.,  4.,  5.,  6.,  7.,  8.,  9., 10.]))"
      ]
     },
     "execution_count": 32,
     "metadata": {},
     "output_type": "execute_result"
    }
   ],
   "source": [
    "list_1 = np.arange(1,11,1) #Often used in for loops\n",
    "\n",
    "list_2 = [1,2,3,4,5,6,7,8,9,10] #Not very efficient\n",
    "\n",
    "list_3 = np.linspace(1,10,10) #Usually used to define timespans when doing integrations\n",
    "\n",
    "list_1, list_2, list_3"
   ]
  },
  {
   "cell_type": "code",
   "execution_count": 33,
   "metadata": {},
   "outputs": [
    {
     "name": "stdout",
     "output_type": "stream",
     "text": [
      "4.1887902047863905\n",
      "33.510321638291124\n",
      "113.09733552923254\n",
      "268.082573106329\n",
      "523.5987755982989\n",
      "904.7786842338603\n",
      "1436.7550402417319\n",
      "2144.660584850632\n",
      "3053.6280592892786\n",
      "4188.790204786391\n"
     ]
    }
   ],
   "source": [
    "for i in list_3:\n",
    "    print(Volume_of_sphere(i))"
   ]
  },
  {
   "cell_type": "markdown",
   "metadata": {},
   "source": [
    "Now we would like to plot this data. For this we must import another library:"
   ]
  },
  {
   "cell_type": "code",
   "execution_count": 34,
   "metadata": {},
   "outputs": [],
   "source": [
    "import matplotlib.pyplot as plt"
   ]
  },
  {
   "cell_type": "markdown",
   "metadata": {},
   "source": [
    "We should also write the data to a list, this could be done in several ways as shown below:"
   ]
  },
  {
   "cell_type": "code",
   "execution_count": 35,
   "metadata": {},
   "outputs": [
    {
     "data": {
      "text/plain": [
       "[4.1887902047863905,\n",
       " 33.510321638291124,\n",
       " 113.09733552923254,\n",
       " 268.082573106329,\n",
       " 523.5987755982989,\n",
       " 904.7786842338603,\n",
       " 1436.7550402417319,\n",
       " 2144.660584850632,\n",
       " 3053.6280592892786,\n",
       " 4188.790204786391]"
      ]
     },
     "execution_count": 35,
     "metadata": {},
     "output_type": "execute_result"
    }
   ],
   "source": [
    "Volumes = [] #Create an empty list\n",
    "for i in list_3:\n",
    "    Volumes.append(Volume_of_sphere(i)) #The values are appended to the list\n",
    "Volumes"
   ]
  },
  {
   "cell_type": "code",
   "execution_count": 36,
   "metadata": {},
   "outputs": [
    {
     "data": {
      "text/plain": [
       "array([0., 0., 0., 0., 0., 0., 0., 0., 0., 0.])"
      ]
     },
     "execution_count": 36,
     "metadata": {},
     "output_type": "execute_result"
    }
   ],
   "source": [
    "Volumes2 = np.zeros(10) #The argument here represents the amount of values in the array = 'storage spaces'\n",
    "Volumes2 # We can also create an array of zeros and replace these values with the values we want"
   ]
  },
  {
   "cell_type": "code",
   "execution_count": 37,
   "metadata": {},
   "outputs": [
    {
     "data": {
      "text/plain": [
       "array([4.18879020e+00, 3.35103216e+01, 1.13097336e+02, 2.68082573e+02,\n",
       "       5.23598776e+02, 9.04778684e+02, 1.43675504e+03, 2.14466058e+03,\n",
       "       3.05362806e+03, 4.18879020e+03])"
      ]
     },
     "execution_count": 37,
     "metadata": {},
     "output_type": "execute_result"
    }
   ],
   "source": [
    "for i in list_1: #Here we should use np.arange for the list since the indices can't be floats, they must be integers\n",
    "    Volumes2[i-1] = Volume_of_sphere(i) #Remember that the first index is 0, not 1.\n",
    "Volumes2"
   ]
  },
  {
   "cell_type": "markdown",
   "metadata": {},
   "source": [
    "The list method is usually easier than the method that uses arrays. It is less prone to mistakes regarding indices.\n",
    "Now that the data is stored somewhere, it can be plotted."
   ]
  },
  {
   "cell_type": "code",
   "execution_count": 38,
   "metadata": {},
   "outputs": [
    {
     "data": {
      "image/png": "[encoded data removed]",
      "text/plain": [
       "<matplotlib.figure.Figure at 0x1d3ff453e80>"
      ]
     },
     "metadata": {
      "needs_background": "light"
     },
     "output_type": "display_data"
    }
   ],
   "source": [
    "plt.figure(1,[6,7]) #First argument represents figure number, the second argument sizes the plot\n",
    "plt.plot(list_3,Volumes, label = 'Sphere', color = 'r')\n",
    "plt.xlabel('Radius', fontsize = 12)\n",
    "plt.ylabel('Volume', fontsize = 12)\n",
    "plt.legend(loc='best') #Legend automatically goes to the optimal location\n",
    "plt.show()"
   ]
  },
  {
   "cell_type": "markdown",
   "metadata": {},
   "source": [
    "Let look at another function now:\n",
    "$$Money = 3Time^3 - 50^2 + 500Time + 25000 $$"
   ]
  },
  {
   "cell_type": "code",
   "execution_count": 39,
   "metadata": {},
   "outputs": [],
   "source": [
    "Time = np.linspace(0,50,101)"
   ]
  },
  {
   "cell_type": "markdown",
   "metadata": {},
   "source": [
    "Firstly when using linspace it is often beneficial to divide your time using a large number of increments plus one, it results in:"
   ]
  },
  {
   "cell_type": "code",
   "execution_count": 40,
   "metadata": {},
   "outputs": [
    {
     "data": {
      "text/plain": [
       "array([ 0. ,  0.5,  1. ,  1.5,  2. ,  2.5,  3. ,  3.5,  4. ,  4.5,  5. ,\n",
       "        5.5,  6. ,  6.5,  7. ,  7.5,  8. ,  8.5,  9. ,  9.5, 10. , 10.5,\n",
       "       11. , 11.5, 12. , 12.5, 13. , 13.5, 14. , 14.5, 15. , 15.5, 16. ,\n",
       "       16.5, 17. , 17.5, 18. , 18.5, 19. , 19.5, 20. , 20.5, 21. , 21.5,\n",
       "       22. , 22.5, 23. , 23.5, 24. , 24.5, 25. , 25.5, 26. , 26.5, 27. ,\n",
       "       27.5, 28. , 28.5, 29. , 29.5, 30. , 30.5, 31. , 31.5, 32. , 32.5,\n",
       "       33. , 33.5, 34. , 34.5, 35. , 35.5, 36. , 36.5, 37. , 37.5, 38. ,\n",
       "       38.5, 39. , 39.5, 40. , 40.5, 41. , 41.5, 42. , 42.5, 43. , 43.5,\n",
       "       44. , 44.5, 45. , 45.5, 46. , 46.5, 47. , 47.5, 48. , 48.5, 49. ,\n",
       "       49.5, 50. ])"
      ]
     },
     "execution_count": 40,
     "metadata": {},
     "output_type": "execute_result"
    }
   ],
   "source": [
    "Time"
   ]
  },
  {
   "cell_type": "markdown",
   "metadata": {},
   "source": [
    "Instead of:"
   ]
  },
  {
   "cell_type": "code",
   "execution_count": 41,
   "metadata": {},
   "outputs": [
    {
     "data": {
      "text/plain": [
       "array([ 0.        ,  0.50505051,  1.01010101,  1.51515152,  2.02020202,\n",
       "        2.52525253,  3.03030303,  3.53535354,  4.04040404,  4.54545455,\n",
       "        5.05050505,  5.55555556,  6.06060606,  6.56565657,  7.07070707,\n",
       "        7.57575758,  8.08080808,  8.58585859,  9.09090909,  9.5959596 ,\n",
       "       10.1010101 , 10.60606061, 11.11111111, 11.61616162, 12.12121212,\n",
       "       12.62626263, 13.13131313, 13.63636364, 14.14141414, 14.64646465,\n",
       "       15.15151515, 15.65656566, 16.16161616, 16.66666667, 17.17171717,\n",
       "       17.67676768, 18.18181818, 18.68686869, 19.19191919, 19.6969697 ,\n",
       "       20.2020202 , 20.70707071, 21.21212121, 21.71717172, 22.22222222,\n",
       "       22.72727273, 23.23232323, 23.73737374, 24.24242424, 24.74747475,\n",
       "       25.25252525, 25.75757576, 26.26262626, 26.76767677, 27.27272727,\n",
       "       27.77777778, 28.28282828, 28.78787879, 29.29292929, 29.7979798 ,\n",
       "       30.3030303 , 30.80808081, 31.31313131, 31.81818182, 32.32323232,\n",
       "       32.82828283, 33.33333333, 33.83838384, 34.34343434, 34.84848485,\n",
       "       35.35353535, 35.85858586, 36.36363636, 36.86868687, 37.37373737,\n",
       "       37.87878788, 38.38383838, 38.88888889, 39.39393939, 39.8989899 ,\n",
       "       40.4040404 , 40.90909091, 41.41414141, 41.91919192, 42.42424242,\n",
       "       42.92929293, 43.43434343, 43.93939394, 44.44444444, 44.94949495,\n",
       "       45.45454545, 45.95959596, 46.46464646, 46.96969697, 47.47474747,\n",
       "       47.97979798, 48.48484848, 48.98989899, 49.49494949, 50.        ])"
      ]
     },
     "execution_count": 41,
     "metadata": {},
     "output_type": "execute_result"
    }
   ],
   "source": [
    "X = np.linspace(0,50,100)\n",
    "X"
   ]
  },
  {
   "cell_type": "code",
   "execution_count": 42,
   "metadata": {},
   "outputs": [
    {
     "data": {
      "image/png": "[encoded data removed]",
      "text/plain": [
       "<matplotlib.figure.Figure at 0x1d3ff453ba8>"
      ]
     },
     "metadata": {
      "needs_background": "light"
     },
     "output_type": "display_data"
    }
   ],
   "source": [
    "Money = Time**3 - 50*Time**2 + 500*Time + 25000\n",
    "\n",
    "plt.plot(Time, Money, 'g')\n",
    "plt.xlabel('Time')\n",
    "plt.ylabel('Money')\n",
    "plt.show()"
   ]
  },
  {
   "cell_type": "markdown",
   "metadata": {},
   "source": [
    "Now to find points on the plot that you require. If you want to find the time when you have the lowest money use np.argmin(). It returns the index of the minimum."
   ]
  },
  {
   "cell_type": "code",
   "execution_count": 43,
   "metadata": {},
   "outputs": [
    {
     "data": {
      "text/plain": [
       "27.0"
      ]
     },
     "execution_count": 43,
     "metadata": {},
     "output_type": "execute_result"
    }
   ],
   "source": [
    "Time[np.argmin(Money)]"
   ]
  },
  {
   "cell_type": "markdown",
   "metadata": {},
   "source": [
    "The maximum can be found with np.argmax():"
   ]
  },
  {
   "cell_type": "code",
   "execution_count": 44,
   "metadata": {},
   "outputs": [
    {
     "data": {
      "text/plain": [
       "50000.0"
      ]
     },
     "execution_count": 44,
     "metadata": {},
     "output_type": "execute_result"
    }
   ],
   "source": [
    "Money[np.argmax(Money)]"
   ]
  },
  {
   "cell_type": "markdown",
   "metadata": {},
   "source": [
    "If you wanted to find the Time for a specific value on a graph, for example the Money must be within 1 of 30000 but it is often necessary to use a large number of indices."
   ]
  },
  {
   "cell_type": "code",
   "execution_count": 45,
   "metadata": {},
   "outputs": [
    {
     "data": {
      "text/plain": [
       "40.74"
      ]
     },
     "execution_count": 45,
     "metadata": {},
     "output_type": "execute_result"
    }
   ],
   "source": [
    "Time = np.linspace(0,50,10001)\n",
    "Money = Time**3 - 50*Time**2 + 500*Time + 25000\n",
    "Time[np.where(abs(Money - 30000) < 1)[0][0]]"
   ]
  },
  {
   "cell_type": "markdown",
   "metadata": {},
   "source": [
    "np.where() finds an index that satisfied the condition that you give it. The [0][0] is simple to get rid of unnecessary brackets."
   ]
  },
  {
   "cell_type": "markdown",
   "metadata": {},
   "source": [
    "## 2. Matrix math\n",
    "\n",
    "Another very important tool on Python is matrix math. When faced with a lot of equations that need to be solved simulatneously, a matrix is a fast and easy method to find the solution. To use matrices in Python, we only need the numpy library.\n",
    "\n",
    "Let's say we have the following equations:\n",
    "\n",
    "- x+2y-z = 1\n",
    "- 7x - y = 2\n",
    "- 2x + 2y -z = 0\n",
    "\n",
    "We can write a coefficient matrix (A) based on this:"
   ]
  },
  {
   "cell_type": "code",
   "execution_count": 46,
   "metadata": {},
   "outputs": [
    {
     "data": {
      "text/plain": [
       "matrix([[ 1,  2, -1],\n",
       "        [ 7, -1,  0],\n",
       "        [ 2,  2, -1]])"
      ]
     },
     "execution_count": 46,
     "metadata": {},
     "output_type": "execute_result"
    }
   ],
   "source": [
    "                #x  y  z\n",
    "A = np.matrix ([[1, 2,-1],  #Equation 1\n",
    "                [7,-1, 0],  #Equation 2\n",
    "                [2, 2,-1]]) #Equation 3\n",
    "\n",
    "A"
   ]
  },
  {
   "cell_type": "markdown",
   "metadata": {},
   "source": [
    "To solve the matrix we need to do some matrix math: $A*x = b$ then $A*b^{-1} = x$. This means we need to transpose our matrix b,\n",
    "we transpose the matrix to get it in the right format. Otherwise, the matrices won't allow you to solve for x,y, and z."
   ]
  },
  {
   "cell_type": "code",
   "execution_count": 47,
   "metadata": {},
   "outputs": [
    {
     "data": {
      "text/plain": [
       "matrix([[1],\n",
       "        [2],\n",
       "        [0]])"
      ]
     },
     "execution_count": 47,
     "metadata": {},
     "output_type": "execute_result"
    }
   ],
   "source": [
    "b = np.matrix([[1,2,0]]).T\n",
    "b"
   ]
  },
  {
   "cell_type": "code",
   "execution_count": 48,
   "metadata": {},
   "outputs": [
    {
     "data": {
      "text/plain": [
       "matrix([[ -1.],\n",
       "        [ -9.],\n",
       "        [-20.]])"
      ]
     },
     "execution_count": 48,
     "metadata": {},
     "output_type": "execute_result"
    }
   ],
   "source": [
    "x = np.linalg.solve(A,b)\n",
    "x"
   ]
  },
  {
   "cell_type": "markdown",
   "metadata": {},
   "source": [
    "## 3. Integrating functions\n",
    "\n",
    "In CBI310, you'll often have to integrate functions in order to see product profiles over time. To integrate functions, Python has a function in a library called 'scipy'. The function is called 'odeint' and it is imported as shown below:"
   ]
  },
  {
   "cell_type": "code",
   "execution_count": 49,
   "metadata": {},
   "outputs": [],
   "source": [
    "from scipy.integrate import odeint"
   ]
  },
  {
   "cell_type": "markdown",
   "metadata": {},
   "source": [
    "Odeint takes three arguments:\n",
    "1. The fuction to be integrated\n",
    "2. The initial values of the variables\n",
    "3. The span over which the integration occurs\n",
    "\n",
    "Lets say we have a function for how your Money changes overtime:\n",
    "\n",
    "$$\\frac{dMoney}{dt} =  3t^3 - 50t^2 + 9t + 0.001(Money)$$"
   ]
  },
  {
   "cell_type": "code",
   "execution_count": 50,
   "metadata": {},
   "outputs": [],
   "source": [
    "#We can now define a function with will give us the change in money\n",
    "\n",
    "def equation(Money, t):\n",
    "    dmoney =  3*t**3 - 50*t**2 + 9*t + 0.001*(Money)\n",
    "    return dmoney"
   ]
  },
  {
   "cell_type": "markdown",
   "metadata": {},
   "source": [
    "Now that we have a function we can specify a starting amount and a certain amount of time that we would like to evaluate the function over:"
   ]
  },
  {
   "cell_type": "code",
   "execution_count": 51,
   "metadata": {},
   "outputs": [],
   "source": [
    "tspan = np.linspace(0,25,1001) #y --> We look at 25 years \n",
    "M0 = 25000 #Initial amount"
   ]
  },
  {
   "cell_type": "code",
   "execution_count": 52,
   "metadata": {},
   "outputs": [],
   "source": [
    "Money = odeint(equation,M0,tspan)"
   ]
  },
  {
   "cell_type": "code",
   "execution_count": 53,
   "metadata": {},
   "outputs": [
    {
     "data": {
      "image/png": "[encoded data removed]",
      "text/plain": [
       "<matplotlib.figure.Figure at 0x1d3ff44df60>"
      ]
     },
     "metadata": {
      "needs_background": "light"
     },
     "output_type": "display_data"
    }
   ],
   "source": [
    "plt.plot(tspan,Money, 'g',label = 'Money')\n",
    "# plt.plot(tspan,Cb, label ='Cb')\n",
    "plt.legend(loc='best')\n",
    "plt.show()"
   ]
  },
  {
   "cell_type": "markdown",
   "metadata": {},
   "source": [
    "This plot now gives us the money over time if it changes with the function given. But what happened here?"
   ]
  },
  {
   "cell_type": "markdown",
   "metadata": {},
   "source": [
    "Initially we started with Money = 25000 lets call this $t_0$. Then we wanted to work our how much money we would have at $t_1$."
   ]
  },
  {
   "cell_type": "code",
   "execution_count": 54,
   "metadata": {},
   "outputs": [],
   "source": [
    "Money0 = 25000 \n",
    "t0 = 0\n",
    "t1 = 0.5"
   ]
  },
  {
   "cell_type": "markdown",
   "metadata": {},
   "source": [
    "Now lets input it into the equation and calculate the change in money between $t_0$ and $t_1$:"
   ]
  },
  {
   "cell_type": "code",
   "execution_count": 55,
   "metadata": {},
   "outputs": [],
   "source": [
    "dmoney_dt =  3*t1**3 - 50*t1**2 + 9*t1 + 0.001*(Money0)"
   ]
  },
  {
   "cell_type": "markdown",
   "metadata": {},
   "source": [
    "Now to calculate the amount of money at $t_1$. We have to add the change to the original amount and multiple the above equation by $dt$"
   ]
  },
  {
   "cell_type": "code",
   "execution_count": 56,
   "metadata": {},
   "outputs": [
    {
     "data": {
      "text/plain": [
       "25008.6875"
      ]
     },
     "execution_count": 56,
     "metadata": {},
     "output_type": "execute_result"
    }
   ],
   "source": [
    "Money1 = Money0 + dmoney_dt*(t1 - t0)\n",
    "Money1"
   ]
  },
  {
   "cell_type": "markdown",
   "metadata": {},
   "source": [
    "This is what odeint does and is then repeated for each 1001 indices to generate the plot. The more indices the more accurate the plot will be."
   ]
  },
  {
   "cell_type": "markdown",
   "metadata": {},
   "source": [
    " Odeint will be used widely in the rest of CBI310 so spend some time to understand how it works."
   ]
  }
 ],
 "metadata": {
  "kernelspec": {
   "display_name": "Python 3",
   "language": "python",
   "name": "python3"
  },
  "language_info": {
   "codemirror_mode": {
    "name": "ipython",
    "version": 3
   },
   "file_extension": ".py",
   "mimetype": "text/x-python",
   "name": "python",
   "nbconvert_exporter": "python",
   "pygments_lexer": "ipython3",
   "version": "3.7.1"
  }
 },
 "nbformat": 4,
 "nbformat_minor": 2
}
