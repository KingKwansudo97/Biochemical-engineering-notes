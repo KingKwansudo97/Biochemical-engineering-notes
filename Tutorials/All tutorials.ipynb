{
 "cells": [
  {
   "cell_type": "markdown",
   "metadata": {},
   "source": [
    "## ALL TUTORIALS\n",
    "\n",
    "\n",
    "### Introductory math\n",
    "\n",
    "[Tutorial 0](https://nbviewer.jupyter.org/github/willienicol/Biochemical-engineering-notes/blob/master/Tutorials/Tut%200.ipynb)\n",
    "\n",
    "### Tutorials from chapter 1\n",
    "\n",
    "[Tutorial 1.1](https://nbviewer.jupyter.org/github/willienicol/Biochemical-engineering-notes/blob/master/Tutorials/Tut%201/Tut%201.1.ipynb)\n",
    "\n",
    "[Tutorial 1.2](https://nbviewer.jupyter.org/github/willienicol/Biochemical-engineering-notes/blob/master/Tutorials/Tut%201/Tut%201.2.ipynb)\n",
    "\n",
    "[Tutorial 1.3](https://nbviewer.jupyter.org/github/willienicol/Biochemical-engineering-notes/blob/master/Tutorials/Tut%201/Tut%201.3.ipynb)\n",
    "\n",
    "[Tutorial 1.4](https://nbviewer.jupyter.org/github/willienicol/Biochemical-engineering-notes/blob/master/Tutorials/Tut%201/Tut%201.4.ipynb)\n",
    "\n",
    "### Tutorials from chapter 2\n",
    "\n",
    "[Tutorial 2.1](https://nbviewer.jupyter.org/github/willienicol/Biochemical-engineering-notes/blob/master/Tutorials/Tut%202/Tut%202.1.ipynb)\n",
    "\n",
    "### Tutorials from chapter 3\n",
    "\n",
    "[Tutorial 3.1](https://nbviewer.jupyter.org/github/willienicol/Biochemical-engineering-notes/blob/master/Tutorials/Tut%203.1.ipynb)\n",
    "\n",
    "[Tutorial 3.2](https://nbviewer.jupyter.org/github/willienicol/Biochemical-engineering-notes/blob/master/Tutorials/Tut%203.2.ipynb)\n",
    "\n",
    "[Tutorial 3.3](https://nbviewer.jupyter.org/github/willienicol/Biochemical-engineering-notes/blob/master/Tutorials/Tut%203.3.ipynb)\n",
    "\n",
    "[Tutorial 3.3b](https://nbviewer.jupyter.org/github/willienicol/Biochemical-engineering-notes/blob/master/Tutorials/Tut%203.3b.ipynb)\n",
    "\n",
    "\n",
    "### Tutorials from chapter 4\n",
    "\n",
    "[Tutorial 4.1](https://nbviewer.jupyter.org/github/willienicol/Biochemical-engineering-notes/blob/master/Tutorials/Tut%204.1.ipynb)\n",
    "\n",
    "[Tutorial 4.2](https://nbviewer.jupyter.org/github/willienicol/Biochemical-engineering-notes/blob/master/Tutorials/Tut%204.2.ipynb)\n",
    "\n",
    "[Tutorial 4.3](https://nbviewer.jupyter.org/github/willienicol/Biochemical-engineering-notes/blob/master/Tutorials/Tut%204.3.ipynb)\n",
    "\n",
    "\n",
    "### Tutorials from chapter 5\n",
    "\n",
    "[Tutorial 5.1](https://nbviewer.jupyter.org/github/willienicol/Biochemical-engineering-notes/blob/master/Tutorials/Tut%205.1/Tut%205.1.ipynb)\n",
    "\n",
    "[Tutorial 5.1b](https://nbviewer.jupyter.org/github/willienicol/Biochemical-engineering-notes/blob/master/Tutorials/Tut%205.1b.ipynb)\n",
    "\n",
    "[Tutorial 5.2](https://nbviewer.jupyter.org/github/willienicol/Biochemical-engineering-notes/blob/master/Tutorials/Tut%205.2.ipynb)\n",
    "\n",
    "[Tutorial 5.2b](https://nbviewer.jupyter.org/github/willienicol/Biochemical-engineering-notes/blob/master/Tutorials/Tut%205.2b/Tut%205.2b.ipynb)\n",
    "\n",
    "### Tutorials from chapter 6\n",
    "​\n",
    "[Tutorial 6.1](https://nbviewer.jupyter.org/github/willienicol/Biochemical-engineering-notes/blob/master/Tutorials/Tut%206.1.ipynb)\n",
    "\n",
    "[Tutorial 6.1b](https://nbviewer.jupyter.org/github/willienicol/Biochemical-engineering-notes/blob/master/Tutorials/Tut6.1b.ipynb)\n",
    "\n",
    "[Tutorial 6.2](https://nbviewer.jupyter.org/github/willienicol/Biochemical-engineering-notes/blob/master/Tutorials/Tut%206.2.ipynb)\n",
    "\n",
    "[Tutorial 6.3](https://nbviewer.jupyter.org/github/willienicol/Biochemical-engineering-notes/blob/master/Tutorials/Tut%206.3.ipynb)\n",
    "\n",
    "### Tutorials from chapter 7\n",
    "\n",
    "[Tutorial 7.1](https://nbviewer.jupyter.org/github/willienicol/Biochemical-engineering-notes/blob/master/7%20Fed-batch%20and%20continuous%20fermenters/Fed-batch%20fermenters.ipynb?flush_cache=true)\n",
    "\n",
    "[Tutorial 7.2](https://nbviewer.jupyter.org/github/willienicol/Biochemical-engineering-notes/blob/master/7%20Fed-batch%20and%20continuous%20fermenters/Continuous%20fermentation.ipynb)"
   ]
  },
  {
   "cell_type": "markdown",
   "metadata": {
    "collapsed": true
   },
   "source": [
    "[Back to Contents page](https://nbviewer.jupyter.org/github/willienicol/Biochemical-engineering-notes/blob/master/List%20of%20contents.ipynb)"
   ]
  },
  {
   "cell_type": "code",
   "execution_count": null,
   "metadata": {
    "collapsed": true
   },
   "outputs": [],
   "source": []
  }
 ],
 "metadata": {
  "kernelspec": {
   "display_name": "Python 3",
   "language": "python",
   "name": "python3"
  },
  "language_info": {
   "codemirror_mode": {
    "name": "ipython",
    "version": 3
   },
   "file_extension": ".py",
   "mimetype": "text/x-python",
   "name": "python",
   "nbconvert_exporter": "python",
   "pygments_lexer": "ipython3",
   "version": "3.7.3"
  }
 },
 "nbformat": 4,
 "nbformat_minor": 1
}
