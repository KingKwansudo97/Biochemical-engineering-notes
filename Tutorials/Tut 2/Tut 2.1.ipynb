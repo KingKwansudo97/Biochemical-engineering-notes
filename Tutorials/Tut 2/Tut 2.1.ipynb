{
 "cells": [
  {
   "cell_type": "markdown",
   "metadata": {},
   "source": [
    "## Tutorial problem 1:\n",
    "\n",
    "Now it's your turn to apply some coding principles. This question entails the optimization of a cylindrical shape in order to minimize heat loss. Imagine you have a solid cylinder with a volume of $10 m^{3}$ with a uniform temperature (Ts) of 400 K. The room temperature (Tr) is at 280 K. The convective heat transfer coefficient (h) is 15 $W/m^{2}K$. \n",
    " \n",
    "The following equation applies, where As is the surface area of the cylinder in $m^2$:\n",
    "- $ Qloss = h*As*(Ts-Tr) $\n",
    "\n",
    "We also know that the surface area of a cylinder is given by:\n",
    "- $ As = 2* \\pi*r^{2} + 2*\\pi*r*L$\n",
    "\n",
    "In addition, the volume of a cylinder is given as:\n",
    "- $ V = \\pi*r^{2}*L$\n",
    "\n",
    "We want to optimize the radius of this cylinder in order to minimize the heat loss. We can do this by plotting the heat loss of various diameters and finding the extrema on the graphs. \n",
    "\n",
    "Hint: Let your radius vary between 0.1 and 10."
   ]
  },
  {
   "cell_type": "code",
   "execution_count": 67,
   "metadata": {},
   "outputs": [
    {
     "data": {
      "text/plain": [
       "array([3600113.09733553,  900452.38934212,  401017.87601976,\n",
       "        226809.55736847,  146827.43338823,  104071.50407905,\n",
       "         79011.15719603,   63488.22947387,   53605.32862231,\n",
       "         47309.73355292,   43436.84371474,   41286.01631621,\n",
       "         40415.22485237,   40534.42470251,   41446.90049408,\n",
       "         43015.41789548,   45141.87737279,   47754.64782258,\n",
       "         50800.43729503,   54238.93421169,   58039.19027451,\n",
       "         62177.12692507,   66633.78350064,   71394.06526484,\n",
       "         76445.83470577,   81779.24260474,   87386.22920575,\n",
       "         93260.14778961,   99395.47749162,  105787.60197631,\n",
       "        112432.63725837,  119327.29658193,  126468.7835153 ,\n",
       "        133854.706723  ,  141483.01153351,  149351.92462366,\n",
       "        157459.90902323,  165805.62729646,  174387.91124529,\n",
       "        183205.73684677,  192258.20341607,  201544.5162001 ,\n",
       "        211063.97177105,  220815.94571683,  230799.88222447,\n",
       "        241015.28523127,  251461.71087941,  262138.76105935,\n",
       "        273046.077866  ,  284183.33882308,  295550.25275652,\n",
       "        307146.55621779,  318972.01037523,  331026.39830448,\n",
       "        343309.52262056,  355821.20340335,  368561.27637547,\n",
       "        381529.59129822,  394726.01055612,  408150.40790524,\n",
       "        421802.66736399,  435682.68222806,  449790.35419398,\n",
       "        464125.59257774,  478688.31361692,  493478.43984633,\n",
       "        508495.89953824,  523740.62619997,  539212.55812197,\n",
       "        554911.63797079,  570837.81242191,  586991.03182799,\n",
       "        603371.24991875,  619978.42352901,  636812.51235193,\n",
       "        653873.47871491,  671161.28737559,  688675.90533618,\n",
       "        706417.30167406,  724385.44738709,  742580.31525229,\n",
       "        761001.87969642,  779650.11667746,  798525.0035759 ,\n",
       "        817626.5190949 ,  836954.64316858,  856509.3568776 ,\n",
       "        876290.64237143,  896298.48279674,  916532.86223123,\n",
       "        936993.76562263,  957681.17873228,  978595.08808286,\n",
       "        999735.48091013, 1021102.34511808, 1042695.66923741,\n",
       "       1064515.44238694, 1086561.65423783, 1108834.29498023,\n",
       "       1131333.35529233])"
      ]
     },
     "execution_count": 67,
     "metadata": {},
     "output_type": "execute_result"
    }
   ],
   "source": [
    "import numpy as np\n",
    "V,h,r,Ts,Tr = 10,15, np.arange(0.1,10.1,0.1),400, 280\n",
    "L = V/(np.pi*r**2)\n",
    "As = 2*np.pi*r**2 + 2*np.pi*L\n",
    "\n",
    "Qloss = h*As*(Ts-Tr)\n",
    "Qloss"
   ]
  },
  {
   "cell_type": "code",
   "execution_count": 66,
   "metadata": {},
   "outputs": [
    {
     "data": {
      "text/plain": [
       "Text(0, 0.5, 'heat loss (kW)')"
      ]
     },
     "execution_count": 66,
     "metadata": {},
     "output_type": "execute_result"
    },
    {
     "data": {
      "image/png": "[encoded data removed]",
      "text/plain": [
       "<Figure size 432x504 with 1 Axes>"
      ]
     },
     "metadata": {
      "needs_background": "light"
     },
     "output_type": "display_data"
    }
   ],
   "source": [
    "import matplotlib.pyplot as plt\n",
    "#Qloss vs r:\n",
    "plt.figure('Qloss-r', [6,7])\n",
    "plt.plot(r,Qloss/1000,'r')\n",
    "plt.xlabel('radius (m)')\n",
    "plt.ylabel('heat loss (kW)')"
   ]
  },
  {
   "cell_type": "code",
   "execution_count": 64,
   "metadata": {},
   "outputs": [
    {
     "name": "stdout",
     "output_type": "stream",
     "text": [
      "40.4152248523693 kW 1.3000000000000003 m\n"
     ]
    }
   ],
   "source": [
    "Qminindex= np.where(Qloss==min(Qloss))[0][0]\n",
    "rmin = r[Qminindex]\n",
    "print(Qloss[Qminindex]/1000,'kW',rmin, 'm')"
   ]
  },
  {
   "cell_type": "markdown",
   "metadata": {},
   "source": [
    "## Tutorial Problem 2:\n",
    "\n",
    "To make ethylene gas, which is used to ripen fruits, we can use ethanol. In this chemical pathway, ethanol is dehydrated over a catalyst where it forms water and ethylene gas. Your job is to do a very quick and easy elemental balancing calculation to provide the right reaction stoiciometry. In other words, solve for a,b, and c by performing a C,H, and O balance using matrices.\n",
    "\n",
    "$ a C_{2}H_{6}O \\rightarrow b C_{2}H_{4} + cH_{2}O$"
   ]
  },
  {
   "cell_type": "code",
   "execution_count": 4,
   "metadata": {},
   "outputs": [],
   "source": [
    "#SOLVE HERE\n",
    "#C: -2*a* + 2*b* + 0*c = 0\n",
    "#H: -6*a* + 4*b* + 2*c = 0\n",
    "#O: -a + 0*b + c = 0\n",
    "#Set a = 1"
   ]
  },
  {
   "cell_type": "markdown",
   "metadata": {},
   "source": [
    "A = array([[0,2,0],[-4,4,1],[-2,0,2],[-1,1,0]])\n",
    "B = array([1,1,1,0])\n",
    "linalg.lstsq(A,B)\n",
    "(array([ 0.5,  0.5,  1. ])"
   ]
  },
  {
   "cell_type": "code",
   "execution_count": 4,
   "metadata": {},
   "outputs": [
    {
     "data": {
      "text/plain": [
       "matrix([[1.],\n",
       "        [1.]])"
      ]
     },
     "execution_count": 4,
     "metadata": {},
     "output_type": "execute_result"
    }
   ],
   "source": [
    "A = np.matrix([[2,0],\n",
    "               [4,2]])\n",
    "z = np.matrix([2,6]).T\n",
    "x = np.linalg.solve(A,z)\n",
    "x"
   ]
  },
  {
   "cell_type": "markdown",
   "metadata": {},
   "source": [
    "## Tutorial problem 3:\n",
    "\n",
    "Integrate the following functions over a span of 0 to 1 with increments of 0.01 and plot them on the same graph:\n",
    "1. $\\frac{dy_1}{dx} = x^{3}$\n",
    "\n",
    "2. $\\frac{dy_2}{dx} = 2x+5$\n",
    "\n",
    "Initial conditions: $y_1 = 3, y_2 = 1$\n",
    "\n",
    "Find their point of intersection, if any."
   ]
  },
  {
   "cell_type": "code",
   "execution_count": 56,
   "metadata": {},
   "outputs": [],
   "source": [
    "def f(y,x):\n",
    "    y1, y2 = r(x)\n",
    "    return y1, y2\n",
    "    \n",
    "def r(x):\n",
    "    y1 = x**3\n",
    "    y2 = 2*x+5\n",
    "    return y1,y2\n"
   ]
  },
  {
   "cell_type": "code",
   "execution_count": 57,
   "metadata": {},
   "outputs": [],
   "source": [
    "x = np.arange(0,1,0.01)"
   ]
  },
  {
   "cell_type": "code",
   "execution_count": 58,
   "metadata": {},
   "outputs": [],
   "source": [
    "from scipy.integrate import odeint as ode\n",
    "Y1,Y2 = ode(f,[3,1],x).T"
   ]
  },
  {
   "cell_type": "code",
   "execution_count": 61,
   "metadata": {},
   "outputs": [
    {
     "data": {
      "text/plain": [
       "Text(0, 0.5, 'y1,y2,dy1,dy2')"
      ]
     },
     "execution_count": 61,
     "metadata": {},
     "output_type": "execute_result"
    },
    {
     "data": {
      "image/png": "[encoded data removed]",
      "text/plain": [
       "<Figure size 432x504 with 1 Axes>"
      ]
     },
     "metadata": {
      "needs_background": "light"
     },
     "output_type": "display_data"
    }
   ],
   "source": [
    "plt.figure('Q3',[6,7])\n",
    "plt.plot(x,y1,'r',label='y1')\n",
    "plt.plot(x,y2,'b',label='y2')\n",
    "plt.plot(x,Y1,'y',label='Y1')\n",
    "plt.plot(x,Y2,'c',label='Y2')\n",
    "plt.legend(loc='best')\n",
    "plt.xlabel('x')\n",
    "plt.ylabel('y1,y2,dy1,dy2')"
   ]
  },
  {
   "cell_type": "code",
   "execution_count": 35,
   "metadata": {},
   "outputs": [
    {
     "name": "stdout",
     "output_type": "stream",
     "text": [
      "3.0046854917618164 2.9869000000029757\n"
     ]
    }
   ],
   "source": [
    "intersect= np.where(abs(Y1-Y2) < 0.03)[0][0]\n",
    "Y1i, Y2i = Y1[intersect], Y2[intersect]  \n",
    "print(Y1i, Y2i)"
   ]
  },
  {
   "cell_type": "code",
   "execution_count": null,
   "metadata": {},
   "outputs": [],
   "source": []
  }
 ],
 "metadata": {
  "kernelspec": {
   "display_name": "Python 3",
   "language": "python",
   "name": "python3"
  },
  "language_info": {
   "codemirror_mode": {
    "name": "ipython",
    "version": 3
   },
   "file_extension": ".py",
   "mimetype": "text/x-python",
   "name": "python",
   "nbconvert_exporter": "python",
   "pygments_lexer": "ipython3",
   "version": "3.7.1"
  }
 },
 "nbformat": 4,
 "nbformat_minor": 2
}
