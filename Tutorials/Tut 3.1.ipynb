{
 "cells": [
  {
   "cell_type": "markdown",
   "metadata": {},
   "source": [
    "## Tutorial 3.1\n",
    "\n",
    "<img src=\"succi1.jpg\" width=\"750\" />\n",
    "\n",
    "The photo above shows a microscopic image of the rumen bacterium _Actinobacillus succinogenes_. The photo was taken from work performed by PhD student Sekgetho Mokwatlo. Click [here](https://www.sciencedirect.com/science/article/abs/pii/S1369703X17302401) to see the paper.\n",
    "\n",
    "_A. succinogenes_ consumes glucose anaerobically to produce biomass, succinic and acetic acid when $NH_3$ is used as nitrogen source. Carbon dioxide can be a reagent or product in this reaction, while water is formed as product. You can assume the standard elemental composition for the biomass.\n",
    "\n",
    "It was determined from a fermentation run that the acetic acid yield was 0.19 $\\frac{g \\,AA}{g \\, Gluc}$ and the biomass yield 0.0656 $\\frac{g \\,X}{g \\, Gluc}$\n",
    "\n",
    "a)\tDetermine the mass based yield of succinic acid on glucose. [0.816 $\\frac{g}{g}$]\n",
    "\n",
    "b)\tIs $CO_2$ formed as product or used as reagent? Determine the moles of $CO_2$ formed/used per cmol of glucose used. [0.1 mol/cmol]\n",
    "\n",
    "c) Repeat the calculation in (a) using the degree of reduction ($DOR$) method. \t\n",
    "\n",
    "d) What will be the mass based succinic acid yield on glucose if zero biomass formed? Acetic acid yield remains the same. [0.91 $\\frac{g}{g}$]\n",
    "\n"
   ]
  },
  {
   "cell_type": "markdown",
   "metadata": {
    "collapsed": true
   },
   "source": [
    "[Back to all tutorials](https://nbviewer.jupyter.org/github/willienicol/Biochemical-engineering-notes/blob/master/Tutorials/All%20tutorials.ipynb)"
   ]
  },
  {
   "cell_type": "code",
   "execution_count": null,
   "metadata": {
    "collapsed": true
   },
   "outputs": [],
   "source": []
  }
 ],
 "metadata": {
  "kernelspec": {
   "display_name": "Python 3",
   "language": "python",
   "name": "python3"
  },
  "language_info": {
   "codemirror_mode": {
    "name": "ipython",
    "version": 3
   },
   "file_extension": ".py",
   "mimetype": "text/x-python",
   "name": "python",
   "nbconvert_exporter": "python",
   "pygments_lexer": "ipython3",
   "version": "3.6.1"
  }
 },
 "nbformat": 4,
 "nbformat_minor": 1
}
